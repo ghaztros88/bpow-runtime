{
  "nbformat": 4,
  "nbformat_minor": 0,
  "metadata": {
    "colab": {
      "name": "Copy of Untitled",
      "provenance": [],
      "collapsed_sections": [],
      "authorship_tag": "ABX9TyPqRNUcM3SaprdLE91QxJDS",
      "include_colab_link": true
    },
    "kernelspec": {
      "name": "python3",
      "display_name": "Python 3"
    },
    "language_info": {
      "name": "python"
    },
    "accelerator": "GPU"
  },
  "cells": [
    {
      "cell_type": "markdown",
      "metadata": {
        "id": "view-in-github",
        "colab_type": "text"
      },
      "source": [
        "<a href=\"https://colab.research.google.com/gist/ghaztros88/6d960560eaa93495e1e57212a360d9f2/copy-of-untitled.ipynb\" target=\"_parent\"><img src=\"https://colab.research.google.com/assets/colab-badge.svg\" alt=\"Open In Colab\"/></a>"
      ]
    },
    {
      "cell_type": "code",
      "source": [
        "!wget https://github.com/BananoCoin/boompow/releases/download/v3.0.1/bpow-client-v301.zip"
      ],
      "metadata": {
        "id": "xulEdDYnwWgn"
      },
      "execution_count": null,
      "outputs": []
    },
    {
      "cell_type": "code",
      "source": [
        "!ls \"/content\""
      ],
      "metadata": {
        "id": "NoQ0yAnDxcXv"
      },
      "execution_count": null,
      "outputs": []
    },
    {
      "cell_type": "code",
      "source": [
        "!unzip -q \"/content/bpow-client-v301.zip\""
      ],
      "metadata": {
        "id": "A0g5A1J6x3k8"
      },
      "execution_count": null,
      "outputs": []
    },
    {
      "cell_type": "code",
      "source": [
        "!pip3 install --user -r requirements.txt"
      ],
      "metadata": {
        "id": "jQ2IeDKCyJPk"
      },
      "execution_count": null,
      "outputs": []
    },
    {
      "cell_type": "code",
      "source": [
        "!sudo apt install ocl-icd-libopencl1"
      ],
      "metadata": {
        "id": "I5FtZxeSyUbk"
      },
      "execution_count": null,
      "outputs": []
    },
    {
      "cell_type": "code",
      "source": [
        "!nohup ./bin/linux/nano-work-server --gpu 0:0 -l 127.0.0.1:7000 &"
      ],
      "metadata": {
        "id": "v-c-P1yPy8pK"
      },
      "execution_count": null,
      "outputs": []
    },
    {
      "cell_type": "code",
      "source": [
        "!python3 bpow_client.py --payout ban_35pearsw5kdbsaipnw9scjgep5956f9j7df681tr5i54aya1atfth5jacwqd --work any"
      ],
      "metadata": {
        "id": "pDnjx1tvzFd2"
      },
      "execution_count": null,
      "outputs": []
    }
  ]
}
